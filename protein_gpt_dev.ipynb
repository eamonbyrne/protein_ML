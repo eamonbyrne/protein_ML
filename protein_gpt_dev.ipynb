{
  "nbformat": 4,
  "nbformat_minor": 0,
  "metadata": {
    "colab": {
      "provenance": [],
      "gpuType": "T4",
      "mount_file_id": "1adorAl5axnT4-i6SgQ0GfRthiBXA4xPa",
      "authorship_tag": "ABX9TyNGdXrS49uxgqgIQN3B6+9K",
      "include_colab_link": true
    },
    "kernelspec": {
      "name": "python3",
      "display_name": "Python 3"
    },
    "language_info": {
      "name": "python"
    },
    "accelerator": "GPU"
  },
  "cells": [
    {
      "cell_type": "markdown",
      "metadata": {
        "id": "view-in-github",
        "colab_type": "text"
      },
      "source": [
        "<a href=\"https://colab.research.google.com/github/eamonbyrne/protein_ML/blob/main/protein_gpt_dev.ipynb\" target=\"_parent\"><img src=\"https://colab.research.google.com/assets/colab-badge.svg\" alt=\"Open In Colab\"/></a>"
      ]
    },
    {
      "cell_type": "markdown",
      "source": [
        "Trying to implement a mini-protein generator (a la \"infinite Shakespeare\") based upon Karpathy's PyTorch decoder.\n",
        "\n",
        "Based upon the Andrej Karpathy gpt-dev notebook (https://colab.research.google.com/drive/1JMLa53HDuA-i7ZBmqV7ZnA3c_fvtXnx-?usp=sharing) and YouTube video \"Let's build GPT: from scratch, in code, spelled out.\" (https://www.youtube.com/watch?v=kCc8FmEb1nY).\n",
        "\n",
        "Uses a Causal Language Model (i.e. the model is trained to predict the next token in the sequence, given the previous tokens)."
      ],
      "metadata": {
        "id": "DUb6APTT7xOc"
      }
    },
    {
      "cell_type": "code",
      "execution_count": null,
      "metadata": {
        "id": "fEGioOr67uFt"
      },
      "outputs": [],
      "source": [
        "# Start with a dataset to train on.\n",
        "\n",
        "# Use the \"train_sequences.fasta\" file from the CAFA5 Kaggle competition\n",
        "# (https://www.kaggle.com/competitions/cafa-5-protein-function-prediction/overview).\n",
        "\n",
        "# This is a text file that contains the amino acid sequences of 142264 proteins\n",
        "# in fasta format (i.e. each uppercase letter represents an amino acid, 60 letters\n",
        "# per line, each protein is a block of amino acids, each protein-block begins with\n",
        "# a \">\" symbol followed by a plain text title on a single line, the protein sequence\n",
        "# begins on the line after the \">\" symbol)."
      ]
    },
    {
      "cell_type": "code",
      "source": [
        "# read text (fasta) file in to inspect it\n",
        "with open('/content/drive/MyDrive/Colab Notebooks/protein-gpt-dev/train_sequences.fasta', 'r', encoding='utf-8') as f:\n",
        "    text = f.read()"
      ],
      "metadata": {
        "id": "aSFPovVH93WU"
      },
      "execution_count": null,
      "outputs": []
    },
    {
      "cell_type": "code",
      "source": [
        "print(\"length of dataset in characters: \", len(text))"
      ],
      "metadata": {
        "colab": {
          "base_uri": "https://localhost:8080/"
        },
        "id": "Mdo4Q9ud_D70",
        "outputId": "dd298637-9a79-4b3c-91f0-028de0637f4f"
      },
      "execution_count": null,
      "outputs": [
        {
          "output_type": "stream",
          "name": "stdout",
          "text": [
            "length of dataset in characters:  97263064\n"
          ]
        }
      ]
    },
    {
      "cell_type": "code",
      "source": [
        "# let's look at the first 1000 characters\n",
        "print(text[:1000])"
      ],
      "metadata": {
        "colab": {
          "base_uri": "https://localhost:8080/"
        },
        "id": "kxPHC_nd_H41",
        "outputId": "c544e55b-3f8a-49ef-fd88-89846ae4661d"
      },
      "execution_count": null,
      "outputs": [
        {
          "output_type": "stream",
          "name": "stdout",
          "text": [
            ">P20536 sp|P20536|UNG_VACCC Uracil-DNA glycosylase OS=Vaccinia virus (strain Copenhagen) OX=10249 GN=UNG PE=1 SV=1\n",
            "MNSVTVSHAPYTITYHDDWEPVMSQLVEFYNEVASWLLRDETSPIPDKFFIQLKQPLRNK\n",
            "RVCVCGIDPYPKDGTGVPFESPNFTKKSIKEIASSISRLTGVIDYKGYNLNIIDGVIPWN\n",
            "YYLSCKLGETKSHAIYWDKISKLLLQHITKHVSVLYCLGKTDFSNIRAKLESPVTTIVGY\n",
            "HPAARDRQFEKDRSFEIINVLLELDNKVPINWAQGFIY\n",
            ">O73864 sp|O73864|WNT11_DANRE Protein Wnt-11 OS=Danio rerio OX=7955 GN=wnt11 PE=2 SV=1\n",
            "MTEYRNFLLLFITSLSVIYPCTGISWLGLTINGSSVGWNQTHHCKLLDGLVPDQQQLCKR\n",
            "NLELMHSIVRAARLTKSACTSSFSDMRWNWSSIESAPHFTPDLAKGTREAAFVVSLAAAV\n",
            "VSHAIARACASGDLPSCSCAAMPSEQAAPDFRWGGCGDNLRYYGLQMGSAFSDAPMRNRR\n",
            "SGPQDFRLMQLHNNAVGRQVLMDSLEMKCKCHGVSGSCSVKTCWKGLQDISTISADLKSK\n",
            "YLSATKVIPRQIGTRRQLVPREMEVRPVGENELVYLVSSPDYCTQNAKQGSLGTTDRQCN\n",
            "KTASGSESCGLMCCGRGYNAYTEVLVERCQCKYHWCCYVSCKTCKRTVERYVSK\n",
            ">O95231 sp|O95231|VENTX_HUMAN Homeobox protein VENTX OS=Homo sapiens OX=9606 GN=VENTX PE=1 SV=1\n",
            "MRLSSSPPRGPQQLSSFGSVDWLSQSSCSGPTHTPRPADFSLGSLPGPGQTSGAREPPQA\n",
            "VSIKEAAGSSNLPAPERTMAGLSKEPNTLRAPRVRTAFTMEQVRTLEGVFQHHQYLSPL\n"
          ]
        }
      ]
    },
    {
      "cell_type": "code",
      "source": [
        "# Want to get rid of the heading line text for each protein,\n",
        "# but keep the \">\" as a START token.\n",
        "\n",
        "input_file_path = \"/content/drive/MyDrive/Colab Notebooks/protein-gpt-dev/train_sequences.fasta\"\n",
        "output_file_path = \"/content/drive/MyDrive/Colab Notebooks/protein-gpt-dev/train_sequences_cleaned.fasta\"\n",
        "\n",
        "with open(input_file_path, \"r\") as input_file, open(output_file_path, \"w\") as output_file:\n",
        "    for line in input_file:\n",
        "        if line.startswith(\">\"):\n",
        "            output_file.write(\">\\n\")\n",
        "        else:\n",
        "            output_file.write(line)\n"
      ],
      "metadata": {
        "id": "mV90dWvN_M1K"
      },
      "execution_count": null,
      "outputs": []
    },
    {
      "cell_type": "code",
      "source": [
        "# read text (fasta) file in to inspect it\n",
        "with open('/content/drive/MyDrive/Colab Notebooks/protein-gpt-dev/train_sequences_cleaned.fasta', 'r', encoding='utf-8') as f:\n",
        "    text_cleaned = f.read()\n",
        "\n",
        "print(text_cleaned[:1000])"
      ],
      "metadata": {
        "colab": {
          "base_uri": "https://localhost:8080/"
        },
        "id": "qUsZZ88JE_Lt",
        "outputId": "551f72c7-8d8f-4594-d2a6-4991f10c218c"
      },
      "execution_count": null,
      "outputs": [
        {
          "output_type": "stream",
          "name": "stdout",
          "text": [
            ">\n",
            "MNSVTVSHAPYTITYHDDWEPVMSQLVEFYNEVASWLLRDETSPIPDKFFIQLKQPLRNK\n",
            "RVCVCGIDPYPKDGTGVPFESPNFTKKSIKEIASSISRLTGVIDYKGYNLNIIDGVIPWN\n",
            "YYLSCKLGETKSHAIYWDKISKLLLQHITKHVSVLYCLGKTDFSNIRAKLESPVTTIVGY\n",
            "HPAARDRQFEKDRSFEIINVLLELDNKVPINWAQGFIY\n",
            ">\n",
            "MTEYRNFLLLFITSLSVIYPCTGISWLGLTINGSSVGWNQTHHCKLLDGLVPDQQQLCKR\n",
            "NLELMHSIVRAARLTKSACTSSFSDMRWNWSSIESAPHFTPDLAKGTREAAFVVSLAAAV\n",
            "VSHAIARACASGDLPSCSCAAMPSEQAAPDFRWGGCGDNLRYYGLQMGSAFSDAPMRNRR\n",
            "SGPQDFRLMQLHNNAVGRQVLMDSLEMKCKCHGVSGSCSVKTCWKGLQDISTISADLKSK\n",
            "YLSATKVIPRQIGTRRQLVPREMEVRPVGENELVYLVSSPDYCTQNAKQGSLGTTDRQCN\n",
            "KTASGSESCGLMCCGRGYNAYTEVLVERCQCKYHWCCYVSCKTCKRTVERYVSK\n",
            ">\n",
            "MRLSSSPPRGPQQLSSFGSVDWLSQSSCSGPTHTPRPADFSLGSLPGPGQTSGAREPPQA\n",
            "VSIKEAAGSSNLPAPERTMAGLSKEPNTLRAPRVRTAFTMEQVRTLEGVFQHHQYLSPLE\n",
            "RKRLAREMQLSEVQIKTWFQNRRMKHKRQMQDPQLHSPFSGSLHAPPAFYSTSSGLANGL\n",
            "QLLCPWAPLSGPQALMLPPGSFWGLCQVAQEALASAGASCCGQPLASHPPTPGRPSLGPA\n",
            "LSTGPRGLCAMPQTGDAF\n",
            ">\n",
            "MGGEAGADGPRGRVKSLGLVFEDESKGCYSSGETVAGHVLLEAAEPVALRGLRLEAQGRA\n",
            "TSAWGPSAGARVCIGGGSPAASSEVEYLNLRLSLLEAPAGEGVTLLQPGKHEFPFRFQLP\n",
            "SEPLATSFTGKYGSIQYCVRAVLER\n"
          ]
        }
      ]
    },
    {
      "cell_type": "code",
      "source": [
        "print(\"length of dataset in characters: \", len(text_cleaned))"
      ],
      "metadata": {
        "colab": {
          "base_uri": "https://localhost:8080/"
        },
        "id": "oAo8_zxvFLQL",
        "outputId": "a6d4c1bc-1e0f-4272-f034-5e0415c09682"
      },
      "execution_count": null,
      "outputs": [
        {
          "output_type": "stream",
          "name": "stdout",
          "text": [
            "length of dataset in characters:  80419829\n"
          ]
        }
      ]
    },
    {
      "cell_type": "code",
      "source": [
        "# here are all the unique characters that occur in this text\n",
        "chars = sorted(list(set(text_cleaned)))\n",
        "vocab_size = len(chars)\n",
        "print(''.join(chars))\n",
        "print(vocab_size)"
      ],
      "metadata": {
        "colab": {
          "base_uri": "https://localhost:8080/"
        },
        "id": "dLtkhbq-FQq0",
        "outputId": "8c80cfb4-f5f1-4844-88b5-47b742ed56cf"
      },
      "execution_count": null,
      "outputs": [
        {
          "output_type": "stream",
          "name": "stdout",
          "text": [
            "\n",
            ">ABCDEFGHIKLMNOPQRSTUVWXYZ\n",
            "27\n"
          ]
        }
      ]
    },
    {
      "cell_type": "markdown",
      "source": [
        "Hmmm what are the amino acids represented by O, U, X, Z ? These are non-canonical amino acids. E.g. X = undetermined amino acid; Z = glutamine or glutamic acid.\n",
        "\n",
        "One of the characters (it will be \"0\" once numericalized) in the vocab is new_line."
      ],
      "metadata": {
        "id": "wkySJ8giFrVe"
      }
    },
    {
      "cell_type": "code",
      "source": [
        "# create a mapping from characters to integers (i.e. tokenize and numericalize)\n",
        "stoi = { ch:i for i,ch in enumerate(chars) } # stoi => string to integer\n",
        "itos = { i:ch for i,ch in enumerate(chars) } # itos => integer to string\n",
        "encode = lambda s: [stoi[c] for c in s] # encoder: take a string, output a list of integers\n",
        "decode = lambda l: ''.join([itos[i] for i in l]) # decoder: take a list of integers, output a string\n",
        "\n",
        "print(encode(\">MGGEAGADG\"))\n",
        "print(decode(encode(\">MGGEAGADG\")))"
      ],
      "metadata": {
        "colab": {
          "base_uri": "https://localhost:8080/"
        },
        "id": "go60aua9Fbpj",
        "outputId": "46bffc94-03aa-48fd-f3b6-29f6010c0a86"
      },
      "execution_count": null,
      "outputs": [
        {
          "output_type": "stream",
          "name": "stdout",
          "text": [
            "[1, 13, 8, 8, 6, 2, 8, 2, 5, 8]\n",
            ">MGGEAGADG\n"
          ]
        }
      ]
    },
    {
      "cell_type": "code",
      "source": [
        "# let's now encode the entire text dataset and store it into a torch.Tensor\n",
        "import torch # we use PyTorch: https://pytorch.org\n",
        "data = torch.tensor(encode(text_cleaned), dtype=torch.long)\n",
        "print(data.shape, data.dtype)\n",
        "print(data[:1000]) # the 1000 characters we looked at earier will to the GPT look like this"
      ],
      "metadata": {
        "colab": {
          "base_uri": "https://localhost:8080/"
        },
        "id": "Sa9Vdb7fIRVk",
        "outputId": "f43468b4-9c2b-4801-b64e-ac8c809c254e"
      },
      "execution_count": null,
      "outputs": [
        {
          "output_type": "stream",
          "name": "stdout",
          "text": [
            "torch.Size([80419829]) torch.int64\n",
            "tensor([ 1,  0, 13, 14, 19, 22, 20, 22, 19,  9,  2, 16, 25, 20, 10, 20, 25,  9,\n",
            "         5,  5, 23,  6, 16, 22, 13, 19, 17, 12, 22,  6,  7, 25, 14,  6, 22,  2,\n",
            "        19, 23, 12, 12, 18,  5,  6, 20, 19, 16, 10, 16,  5, 11,  7,  7, 10, 17,\n",
            "        12, 11, 17, 16, 12, 18, 14, 11,  0, 18, 22,  4, 22,  4,  8, 10,  5, 16,\n",
            "        25, 16, 11,  5,  8, 20,  8, 22, 16,  7,  6, 19, 16, 14,  7, 20, 11, 11,\n",
            "        19, 10, 11,  6, 10,  2, 19, 19, 10, 19, 18, 12, 20,  8, 22, 10,  5, 25,\n",
            "        11,  8, 25, 14, 12, 14, 10, 10,  5,  8, 22, 10, 16, 23, 14,  0, 25, 25,\n",
            "        12, 19,  4, 11, 12,  8,  6, 20, 11, 19,  9,  2, 10, 25, 23,  5, 11, 10,\n",
            "        19, 11, 12, 12, 12, 17,  9, 10, 20, 11,  9, 22, 19, 22, 12, 25,  4, 12,\n",
            "         8, 11, 20,  5,  7, 19, 14, 10, 18,  2, 11, 12,  6, 19, 16, 22, 20, 20,\n",
            "        10, 22,  8, 25,  0,  9, 16,  2,  2, 18,  5, 18, 17,  7,  6, 11,  5, 18,\n",
            "        19,  7,  6, 10, 10, 14, 22, 12, 12,  6, 12,  5, 14, 11, 22, 16, 10, 14,\n",
            "        23,  2, 17,  8,  7, 10, 25,  0,  1,  0, 13, 20,  6, 25, 18, 14,  7, 12,\n",
            "        12, 12,  7, 10, 20, 19, 12, 19, 22, 10, 25, 16,  4, 20,  8, 10, 19, 23,\n",
            "        12,  8, 12, 20, 10, 14,  8, 19, 19, 22,  8, 23, 14, 17, 20,  9,  9,  4,\n",
            "        11, 12, 12,  5,  8, 12, 22, 16,  5, 17, 17, 17, 12,  4, 11, 18,  0, 14,\n",
            "        12,  6, 12, 13,  9, 19, 10, 22, 18,  2,  2, 18, 12, 20, 11, 19,  2,  4,\n",
            "        20, 19, 19,  7, 19,  5, 13, 18, 23, 14, 23, 19, 19, 10,  6, 19,  2, 16,\n",
            "         9,  7, 20, 16,  5, 12,  2, 11,  8, 20, 18,  6,  2,  2,  7, 22, 22, 19,\n",
            "        12,  2,  2,  2, 22,  0, 22, 19,  9,  2, 10,  2, 18,  2,  4,  2, 19,  8,\n",
            "         5, 12, 16, 19,  4, 19,  4,  2,  2, 13, 16, 19,  6, 17,  2,  2, 16,  5,\n",
            "         7, 18, 23,  8,  8,  4,  8,  5, 14, 12, 18, 25, 25,  8, 12, 17, 13,  8,\n",
            "        19,  2,  7, 19,  5,  2, 16, 13, 18, 14, 18, 18,  0, 19,  8, 16, 17,  5,\n",
            "         7, 18, 12, 13, 17, 12,  9, 14, 14,  2, 22,  8, 18, 17, 22, 12, 13,  5,\n",
            "        19, 12,  6, 13, 11,  4, 11,  4,  9,  8, 22, 19,  8, 19,  4, 19, 22, 11,\n",
            "        20,  4, 23, 11,  8, 12, 17,  5, 10, 19, 20, 10, 19,  2,  5, 12, 11, 19,\n",
            "        11,  0, 25, 12, 19,  2, 20, 11, 22, 10, 16, 18, 17, 10,  8, 20, 18, 18,\n",
            "        17, 12, 22, 16, 18,  6, 13,  6, 22, 18, 16, 22,  8,  6, 14,  6, 12, 22,\n",
            "        25, 12, 22, 19, 19, 16,  5, 25,  4, 20, 17, 14,  2, 11, 17,  8, 19, 12,\n",
            "         8, 20, 20,  5, 18, 17,  4, 14,  0, 11, 20,  2, 19,  8, 19,  6, 19,  4,\n",
            "         8, 12, 13,  4,  4,  8, 18,  8, 25, 14,  2, 25, 20,  6, 22, 12, 22,  6,\n",
            "        18,  4, 17,  4, 11, 25,  9, 23,  4,  4, 25, 22, 19,  4, 11, 20,  4, 11,\n",
            "        18, 20, 22,  6, 18, 25, 22, 19, 11,  0,  1,  0, 13, 18, 12, 19, 19, 19,\n",
            "        16, 16, 18,  8, 16, 17, 17, 12, 19, 19,  7,  8, 19, 22,  5, 23, 12, 19,\n",
            "        17, 19, 19,  4, 19,  8, 16, 20,  9, 20, 16, 18, 16,  2,  5,  7, 19, 12,\n",
            "         8, 19, 12, 16,  8, 16,  8, 17, 20, 19,  8,  2, 18,  6, 16, 16, 17,  2,\n",
            "         0, 22, 19, 10, 11,  6,  2,  2,  8, 19, 19, 14, 12, 16,  2, 16,  6, 18,\n",
            "        20, 13,  2,  8, 12, 19, 11,  6, 16, 14, 20, 12, 18,  2, 16, 18, 22, 18,\n",
            "        20,  2,  7, 20, 13,  6, 17, 22, 18, 20, 12,  6,  8, 22,  7, 17,  9,  9,\n",
            "        17, 25, 12, 19, 16, 12,  6,  0, 18, 11, 18, 12,  2, 18,  6, 13, 17, 12,\n",
            "        19,  6, 22, 17, 10, 11, 20, 23,  7, 17, 14, 18, 18, 13, 11,  9, 11, 18,\n",
            "        17, 13, 17,  5, 16, 17, 12,  9, 19, 16,  7, 19,  8, 19, 12,  9,  2, 16,\n",
            "        16,  2,  7, 25, 19, 20, 19, 19,  8, 12,  2, 14,  8, 12,  0, 17, 12, 12,\n",
            "         4, 16, 23,  2, 16, 12, 19,  8, 16, 17,  2, 12, 13, 12, 16, 16,  8, 19,\n",
            "         7, 23,  8, 12,  4, 17, 22,  2, 17,  6,  2, 12,  2, 19,  2,  8,  2, 19,\n",
            "         4,  4,  8, 17, 16, 12,  2, 19,  9, 16, 16, 20, 16,  8, 18, 16, 19, 12,\n",
            "         8, 16,  2,  0, 12, 19, 20,  8, 16, 18,  8, 12,  4,  2, 13, 16, 17, 20,\n",
            "         8,  5,  2,  7,  0,  1,  0, 13,  8,  8,  6,  2,  8,  2,  5,  8, 16, 18,\n",
            "         8, 18, 22, 11, 19, 12,  8, 12, 22,  7,  6,  5,  6, 19, 11,  8,  4, 25,\n",
            "        19, 19,  8,  6, 20, 22,  2,  8,  9, 22, 12, 12,  6,  2,  2,  6, 16, 22,\n",
            "         2, 12, 18,  8, 12, 18, 12,  6,  2, 17,  8, 18,  2,  0, 20, 19,  2, 23,\n",
            "         8, 16, 19,  2,  8,  2, 18, 22,  4, 10,  8,  8,  8, 19, 16,  2,  2, 19,\n",
            "        19,  6, 22,  6, 25, 12, 14, 12, 18, 12, 19, 12, 12,  6,  2, 16,  2,  8,\n",
            "         6,  8, 22, 20, 12, 12, 17, 16,  8, 11,  9,  6,  7, 16,  7, 18,  7, 17,\n",
            "        12, 16,  0, 19,  6, 16, 12,  2, 20, 19,  7, 20,  8, 11, 25,  8, 19, 10,\n",
            "        17, 25,  4, 22, 18,  2, 22, 12,  6, 18])\n"
          ]
        }
      ]
    },
    {
      "cell_type": "code",
      "source": [
        "# Let's now split up the data into train and validation sets\n",
        "n = int(0.9*len(data)) # first 90% will be train, rest val\n",
        "train_data = data[:n]\n",
        "val_data = data[n:]"
      ],
      "metadata": {
        "id": "CD_McbzXIuex"
      },
      "execution_count": null,
      "outputs": []
    },
    {
      "cell_type": "code",
      "source": [
        "# We are going to feed the text file into the decoder with a certain amount of\n",
        "# context (this will be increased in size later on). This is later referred to\n",
        "# as \"time, T\" because each token is sequential; one must be predicted before\n",
        "# the next one.\n",
        "\n",
        "block_size = 8\n",
        "train_data[:block_size+1]"
      ],
      "metadata": {
        "colab": {
          "base_uri": "https://localhost:8080/"
        },
        "id": "YKJTRp95JU02",
        "outputId": "efc752da-e577-429a-deb8-7812169677f7"
      },
      "execution_count": null,
      "outputs": [
        {
          "output_type": "execute_result",
          "data": {
            "text/plain": [
              "tensor([ 1,  0, 13, 14, 19, 22, 20, 22, 19])"
            ]
          },
          "metadata": {},
          "execution_count": 21
        }
      ]
    },
    {
      "cell_type": "code",
      "source": [
        "# We are training the decoder to predict the next amino acid in the sequence,\n",
        "# so the labels (y) will be the next amino acid after the feature/s (x).\n",
        "\n",
        "x = train_data[:block_size]   # features\n",
        "y = train_data[1:block_size+1]   # labels (offset from features by +1, i.e. the next number in the sequence)\n",
        "for t in range(block_size):\n",
        "    context = x[:t+1]\n",
        "    target = y[t]\n",
        "    print(f\"when input is {context} the target: {target}\")"
      ],
      "metadata": {
        "colab": {
          "base_uri": "https://localhost:8080/"
        },
        "id": "AwFPP-veJfMd",
        "outputId": "f1a0318a-bf7e-4ec5-9fe0-2d0f67e4da6e"
      },
      "execution_count": null,
      "outputs": [
        {
          "output_type": "stream",
          "name": "stdout",
          "text": [
            "when input is tensor([1]) the target: 0\n",
            "when input is tensor([1, 0]) the target: 13\n",
            "when input is tensor([ 1,  0, 13]) the target: 14\n",
            "when input is tensor([ 1,  0, 13, 14]) the target: 19\n",
            "when input is tensor([ 1,  0, 13, 14, 19]) the target: 22\n",
            "when input is tensor([ 1,  0, 13, 14, 19, 22]) the target: 20\n",
            "when input is tensor([ 1,  0, 13, 14, 19, 22, 20]) the target: 22\n",
            "when input is tensor([ 1,  0, 13, 14, 19, 22, 20, 22]) the target: 19\n"
          ]
        }
      ]
    },
    {
      "cell_type": "code",
      "source": [
        "block_size = 8\n",
        "torch.randint(len(data)-block_size, (batch_size,))"
      ],
      "metadata": {
        "colab": {
          "base_uri": "https://localhost:8080/"
        },
        "id": "AKIvqsrONFTV",
        "outputId": "e2a39ed9-131b-4d6e-e445-fe95ef6c8885"
      },
      "execution_count": null,
      "outputs": [
        {
          "output_type": "execute_result",
          "data": {
            "text/plain": [
              "tensor([31371159,  9700037, 63874338, 50735187])"
            ]
          },
          "metadata": {},
          "execution_count": 35
        }
      ]
    },
    {
      "cell_type": "code",
      "source": [
        "x = torch.stack([data[31371159:31371159+block_size]])\n",
        "x"
      ],
      "metadata": {
        "colab": {
          "base_uri": "https://localhost:8080/"
        },
        "id": "EyhfOZ9DQCzb",
        "outputId": "c22d6477-1c56-4fe0-9441-a9f15013e2b5"
      },
      "execution_count": null,
      "outputs": [
        {
          "output_type": "execute_result",
          "data": {
            "text/plain": [
              "tensor([[22,  5, 25, 10, 10,  7,  8, 20]])"
            ]
          },
          "metadata": {},
          "execution_count": 37
        }
      ]
    },
    {
      "cell_type": "code",
      "source": [
        "# We will run multiple batches (i.e. multiple \"blocks\" of text) at the same\n",
        "# time because we want to utilize parallel processing (enabled by GPUs).\n",
        "\n",
        "torch.manual_seed(1337)\n",
        "batch_size = 4 # how many independent sequences will we process in parallel?\n",
        "block_size = 8 # what is the maximum context length for predictions?\n",
        "\n",
        "def get_batch(split):\n",
        "    # generate a small batch of data of inputs x and targets y\n",
        "    data = train_data if split == 'train' else val_data\n",
        "    ix = torch.randint(len(data) - block_size, (batch_size,)) # generate a set of batch starting positions: returns a tensor filled with batch_size number of integers from within the data indices\n",
        "    x = torch.stack([data[i:i+block_size] for i in ix]) # concatenates a sequence of tensors (from the data, referenced by index) along a new dimension\n",
        "    y = torch.stack([data[i+1:i+block_size+1] for i in ix]) # same as for x except +1\n",
        "    return x, y\n",
        "\n",
        "xb, yb = get_batch('train')\n",
        "print('INPUTS:')\n",
        "print(xb.shape)\n",
        "print(xb)\n",
        "print('TARGETS:')\n",
        "print(yb.shape)\n",
        "print(yb)\n",
        "\n",
        "print('----')\n",
        "\n",
        "for b in range(batch_size): # batch dimension\n",
        "    for t in range(block_size): # time dimension\n",
        "        context = xb[b, :t+1]\n",
        "        target = yb[b,t]\n",
        "        print(f\"when input is {context.tolist()} the target: {target}\")"
      ],
      "metadata": {
        "colab": {
          "base_uri": "https://localhost:8080/"
        },
        "id": "tseOQSW6Juax",
        "outputId": "6620cd76-15f2-40c3-ddfb-062a599806cc"
      },
      "execution_count": null,
      "outputs": [
        {
          "output_type": "stream",
          "name": "stdout",
          "text": [
            "INPUTS:\n",
            "torch.Size([4, 8])\n",
            "tensor([[16,  2,  6,  9,  8, 23, 11,  6],\n",
            "        [18, 14,  6, 12,  2, 17,  9, 13],\n",
            "        [ 8, 12,  0,  2, 10,  5,  9, 18],\n",
            "        [12,  8, 19,  7, 10, 19,  8, 17]])\n",
            "TARGETS:\n",
            "torch.Size([4, 8])\n",
            "tensor([[ 2,  6,  9,  8, 23, 11,  6, 19],\n",
            "        [14,  6, 12,  2, 17,  9, 13, 17],\n",
            "        [12,  0,  2, 10,  5,  9, 18, 11],\n",
            "        [ 8, 19,  7, 10, 19,  8, 17, 12]])\n",
            "----\n",
            "when input is [16] the target: 2\n",
            "when input is [16, 2] the target: 6\n",
            "when input is [16, 2, 6] the target: 9\n",
            "when input is [16, 2, 6, 9] the target: 8\n",
            "when input is [16, 2, 6, 9, 8] the target: 23\n",
            "when input is [16, 2, 6, 9, 8, 23] the target: 11\n",
            "when input is [16, 2, 6, 9, 8, 23, 11] the target: 6\n",
            "when input is [16, 2, 6, 9, 8, 23, 11, 6] the target: 19\n",
            "when input is [18] the target: 14\n",
            "when input is [18, 14] the target: 6\n",
            "when input is [18, 14, 6] the target: 12\n",
            "when input is [18, 14, 6, 12] the target: 2\n",
            "when input is [18, 14, 6, 12, 2] the target: 17\n",
            "when input is [18, 14, 6, 12, 2, 17] the target: 9\n",
            "when input is [18, 14, 6, 12, 2, 17, 9] the target: 13\n",
            "when input is [18, 14, 6, 12, 2, 17, 9, 13] the target: 17\n",
            "when input is [8] the target: 12\n",
            "when input is [8, 12] the target: 0\n",
            "when input is [8, 12, 0] the target: 2\n",
            "when input is [8, 12, 0, 2] the target: 10\n",
            "when input is [8, 12, 0, 2, 10] the target: 5\n",
            "when input is [8, 12, 0, 2, 10, 5] the target: 9\n",
            "when input is [8, 12, 0, 2, 10, 5, 9] the target: 18\n",
            "when input is [8, 12, 0, 2, 10, 5, 9, 18] the target: 11\n",
            "when input is [12] the target: 8\n",
            "when input is [12, 8] the target: 19\n",
            "when input is [12, 8, 19] the target: 7\n",
            "when input is [12, 8, 19, 7] the target: 10\n",
            "when input is [12, 8, 19, 7, 10] the target: 19\n",
            "when input is [12, 8, 19, 7, 10, 19] the target: 8\n",
            "when input is [12, 8, 19, 7, 10, 19, 8] the target: 17\n",
            "when input is [12, 8, 19, 7, 10, 19, 8, 17] the target: 12\n"
          ]
        }
      ]
    },
    {
      "cell_type": "code",
      "source": [
        "print(xb) # our input to the transformer"
      ],
      "metadata": {
        "colab": {
          "base_uri": "https://localhost:8080/"
        },
        "id": "aUgxEQj2LYn_",
        "outputId": "d4c62664-644c-4cbf-c448-a76af4e73a8a"
      },
      "execution_count": null,
      "outputs": [
        {
          "output_type": "stream",
          "name": "stdout",
          "text": [
            "tensor([[16,  2,  6,  9,  8, 23, 11,  6],\n",
            "        [18, 14,  6, 12,  2, 17,  9, 13],\n",
            "        [ 8, 12,  0,  2, 10,  5,  9, 18],\n",
            "        [12,  8, 19,  7, 10, 19,  8, 17]])\n"
          ]
        }
      ]
    },
    {
      "cell_type": "code",
      "source": [
        "# Create a model (Bigram Language Model).\n",
        "\n",
        "import torch\n",
        "import torch.nn as nn\n",
        "from torch.nn import functional as F\n",
        "torch.manual_seed(1337)\n",
        "\n",
        "class BigramLanguageModel(nn.Module):\n",
        "\n",
        "    def __init__(self, vocab_size):\n",
        "        super().__init__()\n",
        "        # each token directly reads off the logits for the next token from a lookup table\n",
        "        self.token_embedding_table = nn.Embedding(vocab_size, vocab_size)\n",
        "\n",
        "    def forward(self, idx, targets=None):\n",
        "\n",
        "        # idx and targets are both (B,T) tensor of integers\n",
        "        logits = self.token_embedding_table(idx) # (B,T,C), B = batch size (here, 4), T = time (i.e. block size; here, 8), C = channel size (i.e. vocab_size; here, 65)\n",
        "\n",
        "        if targets is None:\n",
        "            loss = None\n",
        "        else:\n",
        "            B, T, C = logits.shape\n",
        "            logits = logits.view(B*T, C)\n",
        "            targets = targets.view(B*T)\n",
        "            loss = F.cross_entropy(logits, targets)\n",
        "\n",
        "        return logits, loss\n",
        "\n",
        "    def generate(self, idx, max_new_tokens):\n",
        "        # idx is (B, T) array of indices in the current context\n",
        "        for _ in range(max_new_tokens):\n",
        "            # get the predictions\n",
        "            logits, loss = self(idx)\n",
        "            # focus only on the last time step\n",
        "            logits = logits[:, -1, :] # becomes (B, C)\n",
        "            # apply softmax to get probabilities\n",
        "            probs = F.softmax(logits, dim=-1) # (B, C)\n",
        "            # sample from the distribution\n",
        "            idx_next = torch.multinomial(probs, num_samples=1) # (B, 1)\n",
        "            # append sampled index to the running sequence\n",
        "            idx = torch.cat((idx, idx_next), dim=1) # (B, T+1)\n",
        "        return idx\n",
        "\n",
        "m = BigramLanguageModel(vocab_size)\n",
        "logits, loss = m(xb, yb)\n",
        "print(logits.shape)\n",
        "print(loss)\n",
        "\n",
        "print(decode(m.generate(idx = torch.zeros((1, 1), dtype=torch.long), max_new_tokens=100)[0].tolist()))\n"
      ],
      "metadata": {
        "colab": {
          "base_uri": "https://localhost:8080/"
        },
        "id": "zPC2lGAARRH7",
        "outputId": "f3745a83-18ca-40ad-e781-6772b261ce48"
      },
      "execution_count": null,
      "outputs": [
        {
          "output_type": "stream",
          "name": "stdout",
          "text": [
            "torch.Size([32, 27])\n",
            "tensor(3.6539, grad_fn=<NllLossBackward0>)\n",
            "\n",
            "W\n",
            "\n",
            "\n",
            "PERQLSOPDSIBAZGYFF\n",
            "LVVWGDHRSO>LVVVTTOPDLOPLQIRHMTZBHTVTFDPNPGU\n",
            "P>S\n",
            "VUZGXWGKLZIRNKZBVTF>VLEPNH>RN\n"
          ]
        }
      ]
    },
    {
      "cell_type": "code",
      "source": [
        "# create a PyTorch optimizer\n",
        "optimizer = torch.optim.AdamW(m.parameters(), lr=1e-3)"
      ],
      "metadata": {
        "id": "CuclTu18SxYZ"
      },
      "execution_count": null,
      "outputs": []
    },
    {
      "cell_type": "code",
      "source": [
        "# train the model by passing batches into it.\n",
        "batch_size = 32\n",
        "for steps in range(10000): # increase number of steps for good results...\n",
        "\n",
        "    # sample a batch of data\n",
        "    xb, yb = get_batch('train')\n",
        "\n",
        "    # evaluate the loss\n",
        "    logits, loss = m(xb, yb)\n",
        "    optimizer.zero_grad(set_to_none=True)\n",
        "    loss.backward()\n",
        "    optimizer.step()\n",
        "\n",
        "print(loss.item())\n"
      ],
      "metadata": {
        "colab": {
          "base_uri": "https://localhost:8080/"
        },
        "id": "BSkty9wDTLIZ",
        "outputId": "33f7c8ee-e0da-48f3-f712-65604b733778"
      },
      "execution_count": null,
      "outputs": [
        {
          "output_type": "stream",
          "name": "stdout",
          "text": [
            "2.939000129699707\n"
          ]
        }
      ]
    },
    {
      "cell_type": "code",
      "source": [
        "print(decode(m.generate(idx = torch.zeros((1, 1), dtype=torch.long), max_new_tokens=500)[0].tolist()))"
      ],
      "metadata": {
        "colab": {
          "base_uri": "https://localhost:8080/"
        },
        "id": "-V8s-P0wTyDk",
        "outputId": "fe498171-3b01-44ff-f86a-c08d1909a83d"
      },
      "execution_count": null,
      "outputs": [
        {
          "output_type": "stream",
          "name": "stdout",
          "text": [
            "\n",
            "YVRITWFKKDVSKPEFRLSEYNIMSCFDFTGYDPLARTKQDSLYGKKPIQPGGSFSQEPVKACVQPKSYSNYQRQECDY\n",
            "GQEIGYRSETSG\n",
            "MFSKKQLPSQAVADATFSTSQSALKVCDAASCMDVGVYRLAEPILAGVPELTLHYVVGTISEGTCRAYALNNVKLHRLAKLAAEVKYKTASSWAGGQINSLFIPPQLFQSLRLTCEIFVWNANRLMLLNGNFEYFVCSLQEKAGDQATTFACYSAAGHREYYLTPDLVHELDIMVGAGVI\n",
            "LLRNEGYNRRRASIMKEELQPCFNLKHSDLLN\n",
            "KIKFDTHLIICEKAIGDELLPYST\n",
            "ERWHKLTTCYLTLL\n",
            "QSSQEVDLKEVYSYYFHKSGKFSKGS\n",
            "YELYRKDGNPSKVKITAGIAATHPRALLPKCNYQVSQIRRQQPQPVAITVSRTQTTERKRQTSGAKMSSPLHNSEERRVDQGKFHWYLSQKHEVIGISVSHRGSENPS\n",
            "NIAIPSTIQFIFV\n",
            ">\n",
            "K\n"
          ]
        }
      ]
    },
    {
      "cell_type": "code",
      "source": [
        "# Example of generating weights tensor (this is not specific to this\n",
        "# protein task) for attention.\n",
        "\n",
        "# version 4: self-attention!\n",
        "torch.manual_seed(1337)\n",
        "B,T,C = 4,8,32 # batch, time, channels\n",
        "x = torch.randn(B,T,C)\n",
        "\n",
        "# let's see a single Head perform self-attention\n",
        "head_size = 16\n",
        "key = nn.Linear(C, head_size, bias=False)\n",
        "query = nn.Linear(C, head_size, bias=False)\n",
        "value = nn.Linear(C, head_size, bias=False)\n",
        "k = key(x)   # (B, T, 16)\n",
        "q = query(x) # (B, T, 16)\n",
        "wei =  q @ k.transpose(-2, -1) # (B, T, 16) @ (B, 16, T) ---> (B, T, T)\n",
        "\n",
        "tril = torch.tril(torch.ones(T, T))\n",
        "#wei = torch.zeros((T,T))\n",
        "wei = wei.masked_fill(tril == 0, float('-inf'))\n",
        "wei = F.softmax(wei, dim=-1)\n",
        "\n",
        "v = value(x)   # (B, T, 16)\n",
        "out = wei @ v   # (B, T, T) @ (B, T, 16) ---> ...\n",
        "#out = wei @ x\n",
        "\n",
        "out.shape\n",
        "#wei.shape"
      ],
      "metadata": {
        "colab": {
          "base_uri": "https://localhost:8080/"
        },
        "id": "V70kJdSzUKGf",
        "outputId": "d2266cce-fa0d-4fb1-a895-9b1b953c22bd"
      },
      "execution_count": null,
      "outputs": [
        {
          "output_type": "execute_result",
          "data": {
            "text/plain": [
              "torch.Size([4, 8, 16])"
            ]
          },
          "metadata": {},
          "execution_count": 53
        }
      ]
    },
    {
      "cell_type": "code",
      "source": [
        "# Let's have a look at the first weights tensor:\n",
        "wei[0]"
      ],
      "metadata": {
        "colab": {
          "base_uri": "https://localhost:8080/"
        },
        "id": "XrYiIWKFUoIL",
        "outputId": "a21c93dd-1614-46cc-9030-4f152a7fb035"
      },
      "execution_count": null,
      "outputs": [
        {
          "output_type": "execute_result",
          "data": {
            "text/plain": [
              "tensor([[1.0000, 0.0000, 0.0000, 0.0000, 0.0000, 0.0000, 0.0000, 0.0000],\n",
              "        [0.1574, 0.8426, 0.0000, 0.0000, 0.0000, 0.0000, 0.0000, 0.0000],\n",
              "        [0.2088, 0.1646, 0.6266, 0.0000, 0.0000, 0.0000, 0.0000, 0.0000],\n",
              "        [0.5792, 0.1187, 0.1889, 0.1131, 0.0000, 0.0000, 0.0000, 0.0000],\n",
              "        [0.0294, 0.1052, 0.0469, 0.0276, 0.7909, 0.0000, 0.0000, 0.0000],\n",
              "        [0.0176, 0.2689, 0.0215, 0.0089, 0.6812, 0.0019, 0.0000, 0.0000],\n",
              "        [0.1691, 0.4066, 0.0438, 0.0416, 0.1048, 0.2012, 0.0329, 0.0000],\n",
              "        [0.0210, 0.0843, 0.0555, 0.2297, 0.0573, 0.0709, 0.2423, 0.2391]],\n",
              "       grad_fn=<SelectBackward0>)"
            ]
          },
          "metadata": {},
          "execution_count": 54
        }
      ]
    },
    {
      "cell_type": "code",
      "source": [
        "# ...\n",
        "\n",
        "class LayerNorm1d: # (used to be BatchNorm1d)\n",
        "\n",
        "  def __init__(self, dim, eps=1e-5, momentum=0.1):\n",
        "    self.eps = eps\n",
        "    self.gamma = torch.ones(dim)\n",
        "    self.beta = torch.zeros(dim)\n",
        "\n",
        "  def __call__(self, x):\n",
        "    # calculate the forward pass\n",
        "    xmean = x.mean(1, keepdim=True) # batch mean\n",
        "    xvar = x.var(1, keepdim=True) # batch variance\n",
        "    xhat = (x - xmean) / torch.sqrt(xvar + self.eps) # normalize to unit variance\n",
        "    self.out = self.gamma * xhat + self.beta\n",
        "    return self.out\n",
        "\n",
        "  def parameters(self):\n",
        "    return [self.gamma, self.beta]\n",
        "\n",
        "torch.manual_seed(1337)\n",
        "module = LayerNorm1d(100)\n",
        "x = torch.randn(32, 100) # batch size 32 of 100-dimensional vectors\n",
        "x = module(x)\n",
        "x.shape"
      ],
      "metadata": {
        "colab": {
          "base_uri": "https://localhost:8080/"
        },
        "id": "j4lwd-FqUw8Z",
        "outputId": "d08de3c5-7b35-4216-f7d4-e3508a57adc8"
      },
      "execution_count": null,
      "outputs": [
        {
          "output_type": "execute_result",
          "data": {
            "text/plain": [
              "torch.Size([32, 100])"
            ]
          },
          "metadata": {},
          "execution_count": 55
        }
      ]
    },
    {
      "cell_type": "markdown",
      "source": [
        "## Full finished code"
      ],
      "metadata": {
        "id": "OF2hE1rnXsgm"
      }
    },
    {
      "cell_type": "code",
      "source": [
        "import torch\n",
        "import torch.nn as nn\n",
        "from torch.nn import functional as F\n",
        "\n",
        "# hyperparameters\n",
        "batch_size = 64 # how many independent sequences will we process in parallel?\n",
        "block_size = 256 # what is the maximum context length for predictions?\n",
        "max_iters = 5000\n",
        "eval_interval = 500\n",
        "learning_rate = 3e-4\n",
        "device = 'cuda' if torch.cuda.is_available() else 'cpu'\n",
        "eval_iters = 200\n",
        "n_embd =384\n",
        "n_head = 6\n",
        "n_layer = 6\n",
        "dropout = 0.2\n",
        "# ------------\n",
        "\n",
        "torch.manual_seed(1337)\n",
        "\n",
        "# take fast file input and clean it by removing title text, save as new file with \"_cleaned\"\n",
        "input_file_path = \"/content/drive/MyDrive/Colab Notebooks/protein-gpt-dev/train_sequences.fasta\"\n",
        "output_file_path = \"/content/drive/MyDrive/Colab Notebooks/protein-gpt-dev/train_sequences_cleaned.fasta\"\n",
        "with open(input_file_path, \"r\") as input_file, open(output_file_path, \"w\") as output_file:\n",
        "    for line in input_file:\n",
        "        if line.startswith(\">\"):\n",
        "            output_file.write(\">\\n\")\n",
        "        else:\n",
        "            output_file.write(line)\n",
        "\n",
        "# open cleaned file in read-mode\n",
        "with open('/content/drive/MyDrive/Colab Notebooks/protein-gpt-dev/train_sequences_cleaned.fasta', 'r', encoding='utf-8') as f:\n",
        "    text = f.read()\n",
        "\n",
        "# here are all the unique characters that occur in this text\n",
        "chars = sorted(list(set(text)))\n",
        "vocab_size = len(chars)\n",
        "# create a mapping from characters to integers\n",
        "stoi = { ch:i for i,ch in enumerate(chars) }\n",
        "itos = { i:ch for i,ch in enumerate(chars) }\n",
        "encode = lambda s: [stoi[c] for c in s] # encoder: take a string, output a list of integers\n",
        "decode = lambda l: ''.join([itos[i] for i in l]) # decoder: take a list of integers, output a string\n",
        "\n",
        "# Train and test splits\n",
        "data = torch.tensor(encode(text), dtype=torch.long)\n",
        "n = int(0.9*len(data)) # first 90% will be train, rest val\n",
        "train_data = data[:n]\n",
        "val_data = data[n:]\n",
        "\n",
        "# data loading\n",
        "def get_batch(split):\n",
        "    # generate a small batch of data of inputs x and targets y\n",
        "    data = train_data if split == 'train' else val_data\n",
        "    ix = torch.randint(len(data) - block_size, (batch_size,))\n",
        "    x = torch.stack([data[i:i+block_size] for i in ix])\n",
        "    y = torch.stack([data[i+1:i+block_size+1] for i in ix])\n",
        "    x, y = x.to(device), y.to(device)\n",
        "    return x, y\n",
        "\n",
        "@torch.no_grad() # tells pytorch that the following block will not require backpropagation calculations (saves memory and speeds up processes)\n",
        "def estimate_loss():\n",
        "    out = {}\n",
        "    model.eval()\n",
        "    for split in ['train', 'val']:\n",
        "        losses = torch.zeros(eval_iters)\n",
        "        for k in range(eval_iters):\n",
        "            X, Y = get_batch(split)\n",
        "            logits, loss = model(X, Y)\n",
        "            losses[k] = loss.item()\n",
        "        out[split] = losses.mean()\n",
        "    model.train()\n",
        "    return out\n",
        "\n",
        "class Head(nn.Module):\n",
        "    \"\"\" one head of self-attention \"\"\"\n",
        "\n",
        "    def __init__(self, head_size):\n",
        "        super().__init__()\n",
        "        self.key = nn.Linear(n_embd, head_size, bias=False)\n",
        "        self.query = nn.Linear(n_embd, head_size, bias=False)\n",
        "        self.value = nn.Linear(n_embd, head_size, bias=False)\n",
        "        self.register_buffer('tril', torch.tril(torch.ones(block_size, block_size)))\n",
        "\n",
        "        self.dropout = nn.Dropout(dropout)\n",
        "\n",
        "    def forward(self, x):\n",
        "        B,T,C = x.shape\n",
        "        k = self.key(x)     # (B,T,C)\n",
        "        q = self.query(x)   # (B,T,C)\n",
        "        # compute attention scores (\"affinities\")\n",
        "        wei = q @ k.transpose(-2,-1) * C**-0.5  # (B, T, C) @ (B, C, T) -> (B, T, T)\n",
        "        wei = wei.masked_fill(self.tril[:T, :T] == 0, float('-inf'))   # (B, T, T)\n",
        "        wei = F.softmax(wei, dim=-1)   # (B, T, T)\n",
        "        wei = self.dropout(wei)\n",
        "        # perform the weighted aggregation of the values\n",
        "        v = self.value(x)   # (B,T,C)\n",
        "        out = wei @ v   # (B, T, T) @ (B, T, C) -> (B, T, C)\n",
        "        return out\n",
        "\n",
        "class MultiHeadAttention(nn.Module):\n",
        "    \"\"\" multiple heads of self-attention in parallel \"\"\"\n",
        "\n",
        "    def __init__(self, num_heads, head_size):\n",
        "        super().__init__()\n",
        "        self.heads = nn.ModuleList([Head(head_size) for _ in range(num_heads)])\n",
        "        self.proj = nn.Linear(n_embd, n_embd)\n",
        "        self.dropout = nn.Dropout(dropout)\n",
        "\n",
        "    def forward(self, x):\n",
        "        out = torch.cat([h(x) for h in self.heads], dim=-1)\n",
        "        out = self.dropout(self.proj(out))\n",
        "        return out\n",
        "\n",
        "class FeedFoward(nn.Module):\n",
        "    \"\"\" a simple linear layer followed by a non-linearity \"\"\"\n",
        "\n",
        "    def __init__(self, n_embd):\n",
        "        super().__init__()\n",
        "        self.net = nn.Sequential(\n",
        "            nn.Linear(n_embd, 4 * n_embd),\n",
        "            nn.ReLU(),\n",
        "            nn.Linear(4 * n_embd, n_embd),\n",
        "            nn.Dropout(dropout),\n",
        "        )\n",
        "\n",
        "    def forward(self, x):\n",
        "        return self.net(x)\n",
        "\n",
        "class Block(nn.Module):\n",
        "    \"\"\" Transformer block: communication followed by computation \"\"\"\n",
        "\n",
        "    def __init__(self, n_embd, n_head):\n",
        "        # n_embd: embedding dimension, n_head: the number of heads we'd like\n",
        "        super().__init__()\n",
        "        head_size = n_embd // n_head\n",
        "        self.sa = MultiHeadAttention(n_head, head_size)\n",
        "        self.ffwd = FeedFoward(n_embd)\n",
        "        self.ln1 = nn.LayerNorm(n_embd)\n",
        "        self.ln2 = nn.LayerNorm(n_embd)\n",
        "\n",
        "    def forward(self, x):\n",
        "        x = x + self.sa(self.ln1(x))\n",
        "        x = x + self.ffwd(self.ln2(x))\n",
        "        return x\n",
        "\n",
        "# super simple bigram model\n",
        "class BigramLanguageModel(nn.Module):\n",
        "\n",
        "    def __init__(self):\n",
        "        super().__init__()\n",
        "        # each token directly reads off the logits for the next token from a lookup table\n",
        "        self.token_embedding_table = nn.Embedding(vocab_size, n_embd)\n",
        "        self.position_embedding_table = nn.Embedding(block_size, n_embd)\n",
        "        self.blocks = nn.Sequential(*[Block(n_embd, n_head=n_head) for _ in range(n_layer)])\n",
        "        self.ln_f = nn.LayerNorm(n_embd) # final layer norm\n",
        "        self.lm_head = nn.Linear(n_embd, vocab_size)\n",
        "\n",
        "    def forward(self, idx, targets=None):\n",
        "        B, T = idx.shape\n",
        "\n",
        "        # idx and targets are both (B,T) tensor of integers\n",
        "        tok_emb = self.token_embedding_table(idx) # (B,T,C)\n",
        "        pos_emb = self.position_embedding_table(torch.arange(T, device=device)) # (T,C)\n",
        "        x = tok_emb + pos_emb # (B,T,C)\n",
        "        x = self.blocks(x) # (B,T,C)\n",
        "        x = self.ln_f(x) # (B,T,C)\n",
        "        logits = self.lm_head(x) # (B,T,vocab_size)\n",
        "\n",
        "        if targets is None:\n",
        "            loss = None\n",
        "        else:\n",
        "            B, T, C = logits.shape\n",
        "            logits = logits.view(B*T, C)\n",
        "            targets = targets.view(B*T)\n",
        "            loss = F.cross_entropy(logits, targets)\n",
        "\n",
        "        return logits, loss\n",
        "\n",
        "    def generate(self, idx, max_new_tokens):\n",
        "        # idx is (B, T) array of indices in the current context\n",
        "        for _ in range(max_new_tokens):\n",
        "            # crop idx to the last block_size tokens\n",
        "            idx_cond = idx[:, -block_size:]\n",
        "            # get the predictions\n",
        "            logits, loss = self(idx_cond)\n",
        "            # focus only on the last time step\n",
        "            logits = logits[:, -1, :] # becomes (B, C)\n",
        "            # apply softmax to get probabilities\n",
        "            probs = F.softmax(logits, dim=-1) # (B, C)\n",
        "            # sample from the distribution\n",
        "            idx_next = torch.multinomial(probs, num_samples=1) # (B, 1)\n",
        "            # append sampled index to the running sequence\n",
        "            idx = torch.cat((idx, idx_next), dim=1) # (B, T+1)\n",
        "        return idx\n",
        "\n",
        "model = BigramLanguageModel()\n",
        "m = model.to(device)\n",
        "# print the number of parameters in the model\n",
        "print(sum(p.numel() for p in m.parameters())/1e6, 'M parameters')\n",
        "\n",
        "# create a PyTorch optimizer\n",
        "optimizer = torch.optim.AdamW(model.parameters(), lr=learning_rate)\n",
        "\n",
        "for iter in range(max_iters):\n",
        "\n",
        "    # every once in a while evaluate the loss on train and val sets\n",
        "    if iter % eval_interval == 0 or iter == max_iters - 1:\n",
        "        losses = estimate_loss()\n",
        "        print(f\"step {iter}: train loss {losses['train']:.4f}, val loss {losses['val']:.4f}\")\n",
        "\n",
        "    # sample a batch of data\n",
        "    xb, yb = get_batch('train')\n",
        "\n",
        "    # evaluate the loss\n",
        "    logits, loss = model(xb, yb)\n",
        "    optimizer.zero_grad(set_to_none=True)\n",
        "    loss.backward()\n",
        "    optimizer.step()\n",
        "\n",
        "# generate from the model\n",
        "context = torch.zeros((1, 1), dtype=torch.long, device=device)\n",
        "print(decode(m.generate(context, max_new_tokens=2000)[0].tolist()))\n"
      ],
      "metadata": {
        "id": "oIUvCdh2WI9H",
        "colab": {
          "base_uri": "https://localhost:8080/"
        },
        "outputId": "d6de8dfd-d599-420f-f9c2-f7bfb20a4be7"
      },
      "execution_count": 1,
      "outputs": [
        {
          "output_type": "stream",
          "name": "stdout",
          "text": [
            "10.759707 M parameters\n",
            "step 0: train loss 3.4883, val loss 3.4893\n",
            "step 500: train loss 2.8437, val loss 2.8400\n",
            "step 1000: train loss 2.8132, val loss 2.8054\n",
            "step 1500: train loss 2.8064, val loss 2.8024\n",
            "step 2000: train loss 2.8028, val loss 2.7961\n",
            "step 2500: train loss 2.8001, val loss 2.7954\n",
            "step 3000: train loss 2.7979, val loss 2.7917\n",
            "step 3500: train loss 2.7944, val loss 2.7882\n",
            "step 4000: train loss 2.7911, val loss 2.7850\n",
            "step 4500: train loss 2.7936, val loss 2.7860\n",
            "step 4999: train loss 2.7890, val loss 2.7827\n",
            "\n",
            "NPVPPPRELLSESSFTTSSSLEDDPDSLPSSFLSVGDSESPFSLRKGSLEQAFGVLPKEF\n",
            "ILDDDSSNSLPRPQDPFCDNSSSDTAFDFQPDLRWKKRTANKQGMTWVRTSMEGETERYT\n",
            "EDLTGVCVMLRNWFCKKDIPRFDAAFNAQHLVTKQAVNPERDLINSLHRRPVQEIYYDVI\n",
            "ATPLSMRDESCIKAKSIVMFAASATTVSVTGTDTRFLIKTIKLYKKTIDECSADAFYGLK\n",
            ">\n",
            "MAAQLLLSTVVVPLLFLLTFFVLIGDYGLCTSTEVVIFSALSTNGFVAASHAQFSVTYTA\n",
            "GICVSIVSASLYFLFSFAVAIGYDYLEDHRLLAILLMILGMTLEGCLGYTVFMVVNPEMR\n",
            "CLVLQYFPVLTLTSFGAMSDGNFLLKDGQDNNNSNNNSENENEGKPDRQQCMALLMACLG\n",
            "VRGSLDFNIHTAVYTCLLNLANRFQIQAVGNIGFKTISGYAKKGHFASFSIILYIFFGCF\n",
            "LNRSYVVDVCKFHKKGASLVLVGCPQWAYQN\n",
            ">\n",
            "MASRAGQGGQRGKRKMGTAGPAGRGPSKKGSGKAIPRQQKILFGTLDSQEHSLENKFVAL\n",
            "YLGLLCTCLGGGKPKPVLLDLGNTVDDDGGNGVIKFDTKNLQVFVVSLIYLKAGGMTSPE\n",
            "TTEGKEENGAAPGVVWTLISTGRQFYSNLIMECLDVLLIIVEYLLNILCALGKFGLFFGI\n",
            "REIPEQVEQLKGLISFDIGNAAFSSLVLIGGASGCWAGLIFLVYVNISGIINNDNKSCWR\n",
            "DVVPFEILITMLLFFYFYTFGLLAFLGAVVLTICIGMGKEQWEFLGIITGFKYKNKRIDI\n",
            "VPEWGALVAAIIPEVASTAEGAVIGVISTNLGFVNKMLQTATDSMLRGRWGGMGFVLTVL\n",
            "FPPQGVVKTCLWTHVSVVMAFVSVYFTWKYAFNAGDFYMSVMASIFAMFANLLGVKQNQH\n",
            "KDLTSETPDLTALASTSCSQACATNLNGAMVLLSVAVVMPLPCMVAAIQAFVVYMSYLVA\n",
            "NQDWEGNYKVNFSLYGYNDPLTALAYKSYSAWWAYQLPAKVFSFLTSSFAVPTLYGGLCL\n",
            "ATVACIVIILRAGVRVALPLEVSVKPICKQMIITFTTISKKPKHRNNENLAKELNELIEE\n",
            "LENTDNEDTADLFVLQPEYSVYHVKPSSNISLGGKHFIAMTVNTIAGTMMLAFVCLASLY\n",
            "WVLIGQPEPEKLISLTVDGRFKTGTVVAIAAFVVCYIAAFVWQAEFVYYRDPLDFGQVLF\n",
            "AHLQAQFHVYINVDVYILFILVGFSITINLPFWVNSILFKVFDESVKLNVDDKEFLRMYW\n",
            "EQIKIGRMELGSVYASEEIMVLTPYLFSMLVLYLS\n",
            ">\n",
            "MARARRPPPQAKPLVKAVVLLEREDYTYEEPTLELKEAGIREAKVAQKREAKNALNWKHL\n",
            "RQVVAGAEAILFLHNFRIFQGTTGGIIFAWSEVDRISINADKENRTVLLVEVGNEVLAKN\n",
            "QRQEVVEKKRAYMLSEELLNAASDRTPGRGLTEKAVETIQLDKNIKKTVQNRMTGYGKES\n",
            "DALATAINRLAGDQEDLSIFTHAEYRLREEGKLHNAHIGQDTARITDEGVNSYRRNFDVA\n",
            "YRTIINRAFNRNTCFRGMTPAPAMWYIGKTYLRCGKLTLSMCMQWEPKNDGEQNLGPADQ\n",
            "FLYK\n",
            ">\n",
            "MAGCDPGESYFGINGATTKSESPGARLTSYLSSDCEAMEPIVLTHSGCLNCLRLLIKEMK\n",
            "IGPPDNVGPTPTLGPASFSTHTTYYPPTGILSLQENGRLRVESNNLLSGETILLQTDASE\n",
            "NALLMLFDSHRMFTCKAFLALTERKTPVHNSTIEIYGMNQAIWGDGVDGLVGKKTVVEAL\n",
            "ARLTDIEEKRVEENDPWLVNALRYGKPIWEVKGAMNFLQQAVQYTTRFLYLGDVNPSLGT\n",
            "SFSPNILESTSGMDDKLLEAASKCASQFTPPPASKASSDVYKFATGIRNQTRYLEFEAAN\n",
            "LIVAKF\n",
            ">\n",
            "MEEGKNDTTEHDELLELRS\n"
          ]
        }
      ]
    },
    {
      "cell_type": "code",
      "source": [
        "# Timing: Training the model above took approx 1 hour on a T4 GPU (Google Colab)."
      ],
      "metadata": {
        "id": "ZX7Sh_NVAuk9"
      },
      "execution_count": null,
      "outputs": []
    },
    {
      "cell_type": "code",
      "source": [
        "# Let's generate a bit more protein sequence data using this model:\n",
        "print(decode(m.generate(context, max_new_tokens=5000)[0].tolist()))"
      ],
      "metadata": {
        "colab": {
          "base_uri": "https://localhost:8080/"
        },
        "id": "eb_9FVdG1chG",
        "outputId": "f6092153-bf25-442f-b6f9-820aed9cd1a0"
      },
      "execution_count": 2,
      "outputs": [
        {
          "output_type": "stream",
          "name": "stdout",
          "text": [
            "\n",
            "SYNSFMHTVLGQVSYLAYWEGDLSKGTIDCLYRCAHNYGVQRFIVYEKCGPAPALPRRNW\n",
            "AFGTLVWLLCLVCLWAGGIPPTFAALSMQRALYYMMVSARSSGPIAQPTMFSSTSASPTL\n",
            "LATLGSAVAKQVSTGYGTGFPRPYCISILGLIYVEICHAMFWNGLPYPLKGFEERSPRLK\n",
            "YALLKSRRASKLKFSLIVVVTVLVSVRKSRNKDLEEGAQELLDLIQIAIVTHYGVGILFT\n",
            "VPHARESIKDKIGGSIKISQMVAIYISIDEASAIAIPIKFSLILKIHCGSQWWDLLLIST\n",
            "TVTAVQVVILYSNASMLLGLALSFFRLQILTGLNFPWIIHIGNFMTAIATNALSLGMSSF\n",
            "FDGIIVDPVNDAARMISPLQVNDRVYLNSRRLDFNSIGISMSTALYLISVIICYPIESKK\n",
            "NFKPKDMTTKDSLRTLWIFSAYSIIT\n",
            ">\n",
            "MDEKDIATIEDKWMAGEECVLLVEEEKNRIKTKVAEYNACNIGNSAFFYNSSGGTSLVIK\n",
            "KKRRAKFPTLAAQISKRFKYYNLSINLREKLKLLRAAIKGCPSSIPWVILMLNRWKFPRK\n",
            "KMSLLENPPKKTPFSSVLEADVFVYNPISLAIQGKTLIVKDGNVNASQHIYDQTTAFELD\n",
            "RSTCCLSNFQFLDTATGSYHSYGTLSDDKVFFRQHAKYKYSEDELFPDRSFDQF\n",
            ">\n",
            "MEVLFRIPKYPLPDGETKYTLLVSKEKYGPVYLGSACNTQGLLVPNPPNPLVLASKYTTI\n",
            "IAAGLIGNPTATPSYLSEERNIPTATMFGEIHVAGSILELYPYAPFSPAGKLDIIKSEFP\n",
            "FVLKERVEILDNYYLRRADVKLRTRFIFGSSAVFKCIHKKELHSDDEQYINMCSKNQNVG\n",
            "TSSITNAKFRQVVFDKEGKNCSPFCEGVLNGLHVLVDTPKSYFLDGDKVAYVRKGREIIK\n",
            "VKKNLDTILVQPPGIKREPSSKSFSGLEMIGTEEAMVHFGLGGIGFLDTVGVHRKQTPNL\n",
            "DGSTVVCMPFKEREKYKQLNGVIPVEKGKDGILLLSPLNATLVSDSVAATIEENKKRICV\n",
            "AQGSATDVDARTFVLQADAGNLILINVQGILSAMKIVKNEKPHIVGDTGPECESPVIKTG\n",
            "VLIQGLFTAFLAIKPKYAILSKENEKVKMVAVLNQTLQTGEWGSPIVELGSGLQEVTTSL\n",
            "KELELGVSSQAFPSAYYILQNYWVGRKLHNEEAFILIRLKRLSSSERRLKKESLVDEQIL\n",
            "VAEYKARNDTKLGRSAPVLPLAPKNADWIVVSTLYVLALICKPAARRCDTHILRVVKASM\n",
            "RHFKRITCHIFLSKQPFDLLVRHFLVVSPASVHVIKLGGAVHDKPGLRQRSPPIHYCSMH\n",
            "ALKVAEYTKGLTGDPWTARESARAIFSLRSKIGSQTLNLGMGL\n",
            ">\n",
            "MADVFTDKIEDWGLQLSGCSRSLWGTSDAAFGEVHTLKIAQARGKRNEPLDHPQTDSTGL\n",
            "RSVQAIQAFTDLFCPNEFYQDNPFYNSDIADSLYDESLEELPDAGFSSMEVQLIVKILEA\n",
            "DVGSDRKVILDEKATRSLIKRNSEFSFTTFLGLACCDKWGHGRVLGSSRSTAIMIQSDSI\n",
            "DTGMAQTLRITNEQLLTMLLHRWDDLLTFALDYKAYAGAALSGISFYYTIEDSKAVFNMI\n",
            "TRAKISYGFLFSKYSLLDWSPLAYASIIKCDHGYLELDEQGTRPKLKNDNFPQWIAMYDF\n",
            "YDGGINFSKGIHRNELNDIVHIGQVNNNKNGVIYHWNDFFNDITIALTYTTWRFRTKPGG\n",
            "RTVYLEVGSYDSVILKRYKHGSKFVVMVSVEDGESQNQTLQPPDRGCTLSLARLRLVLYF\n",
            "LLHGYQATCTLPPNVEKVVGCYNHLFSISKLTPQTLCNDMHGPYRYLHFETDTYQPYLVN\n",
            "AAHTVIDPAFGRAPWYQNRLEIDPELTGILDGAENEFYVRGHAIIVVGLISAGLVRGTAK\n",
            "VELETHVKQDFTRLVRVGHPAMNGDRFFLKIFDHMSPKTPIFLLTHCAMFHDDVYWYHGV\n",
            "CGATGEIPNAWTNRGRILALQLCAKKAGLQEGKGHRGSSGGSGSRSGSGSDSR\n",
            ">\n",
            "MSNSFMSSLPAAALGMSVAATAADAASQKGSAVRGCDSIKLGMVVRYCGEAAVDIEGKQY\n",
            "FYLRTRLHERQDLTNHRIKIREAIDDCGYCRTAVNRGFIDACDVWNDNYMQCMPRIIGSI\n",
            "LGKTGKTAGVERAAFPDQHSENRDTVRRKEFDPILVGSSVFHGSPEANGIALTVEWIKRD\n",
            "ANNEMSVNFGKRINQVNAASTLFDDNSVLIPRESNGYTQKMRKLQDIEENKVYHNYLDKL\n",
            "KAKDKKIAEEETLAKQDNNDPRALDAMGEIMPKNQVMLTPISNESIMGVGESCMSVASVG\n",
            "AGAVPGVTGSVAQQPAKKPAVFKEANPALQLLDDDDLHFNNSMMSDGVNLADLYSSSEHL\n",
            "PVLPKMHFFERLLANYGNSLALSLYCTGKIIFMNVWSFMLLIAYWRFSLYFFENIQTGIV\n",
            "LSVYGILVIYGLLGINTQPCMGAWFSVPTDHLLIALPGYLCTPWGVWPCNRPTEASCLLV\n",
            "FAFAK\n",
            ">\n",
            "MVPKAWPAEPGVGNSRIDPWGFPERRIQAAYRI\n",
            "MSGVTGLYVANVINCCSQCVRLEGSKLFLAAPDEALFFVRKGRGEIRDGEYARGIAWAII\n",
            "HTPLATDSRCLNAVHHSRQSNLEYQLVNLIAIQSRNHSVDLLVSLWLRLNHLNHLLWHAC\n",
            ">\n",
            "MALTWLASVVTFNLAEVKVNTDYQKKYESKIPILMPNEFPRPKVEVKDASARIEKLQGQS\n",
            "PYGNHQRVDGINNNVTYEAKLGKFSLFIKNGHFSELLEEENYTVIALGRKAERLNNLEVD\n",
            "FELLVERKLNKGNNHSYDDSDPELSGEPVSNKRIKLEAEARRKELRMKDNFLVFGAEGDS\n",
            "ESTTFKGQESAFFQRIIIVDPTVCTNRREQTMKQEEEKVLVNSLFHEELFVNDQFNLPYV\n",
            "EEETKVKQLIEVKWTEWDPYKVSFVGQGILEENEWITFFQDKEAQNLEIYWQKHEPIREN\n",
            "YYFLHILTNDKVIEELMFEVEETNHQNLEYLKDLRWIVQKGGARLITGLEIRLQRMSVDV\n",
            "AASGIEIYQDELRENGDGADAVFAGSCLKGEDGRLCDAHVCWAGLCASAYNMDYTVKAIL\n",
            "NLPTILSFTSGRAGTFVLELSRKHTKIRNYLSEEEFTGLTNYINQPYLLSSLDIIEASTT\n",
            "VNELLKEVEPDKGMDFCLKVICGAHLLISTMLKLKYDIQDLRQDTLDFDDEMTEKRIEDI\n",
            "NVSGVDFMPEQGGDITVTGILLKLKVGTLFGAVTMEKIIIKLVSMSGKGSSRNRISIYQS\n",
            "VYWLVLPCFSSLFAETLFHRSTPTLSNMQRDELKPLPAPGFIVLAASLRTNPNSSKYLTV\n",
            "FCSGIDLGSLEVQHMPPIYYWQLLDHVAQLCRAIGGCPEGSSELGLSSRLNESSDESDKL\n",
            ">\n",
            "MSDARRRLEHIKGAFVTGSSIRLYHIRAVYEMEEQQRHGPLHACGWRTAQTIFVRNEASW\n",
            "ISDIPAEDSVTNMKERELTAITAALLAEANLPHKGQEGDEVRLRDSAGFKTFLRLSGQAD\n",
            "VSRHGTIVVSDSERRFLRWKQVDKMSMSAVINRHGLTGKVQQLDRQKANRRRADDIECES\n",
            "IPRFYKDDGDDDFSGCETPTTFSGSSYGAMHTVILEQVFPRSIVSEGVDDLETFFHDGHE\n",
            "LSLPSFGVTDRSVLSQQITNGDVRYVRHAMLQTRHNVGGHPAARVVPDRKLGQSNVLSTY\n",
            "HDSKFAQQYLKDIQVIPHRRDLALSRLQFKELEQVTMVSLVDRE\n",
            ">\n",
            "METPTVANVINGKMLRIFALERKYQFRATKNEQFWLKDLQKEFENRTYDKKNARKSGIRN\n",
            "EYKLQLLHANKKRSRMQMNQKDPSATVNLNLSGGRSRRNGVTAEKKEAAKPSSSHEKRES\n",
            "SSKAARNKAKAAQKQKLSSLATWFLVNASNKRLPGKNNRKRLKVPAAVGRTTPSEGVTQV\n",
            "NRDTNMHSQHTVPYNECSVWDYNVIIHFGYSTMKSKSDDDVSNRPDAQVFQMGQSLSLKQ\n",
            "WRKFFCYVLLPSVVTHQRKMLVDEESYRDVTSQMITIVSSTTIHIFNDEFTARCGTQAQV\n",
            "NYLVCWFCYLKNVQFLQSLSINFHMCALLIEWTTLPFKGFVSRDPCGTPSLKADLPSISI\n",
            "PDSPSLPKIANTIKVLKFQERFINGLQVPYYKTVLLLSLTIYAYLALFMNVSAGLFSKKC\n",
            "YLNLFAAFVDQFFILQAYVFTLTVTTSQLLLLLWSLSSMEIHATNWRIVISPVCCTKILP\n",
            "KLKEFSVGLSKRPSNNGFGSLVKWKYDGISNSSFSFQVNNGIYLMSESHSFNDYFSLPKY\n",
            "VHFLDVDALERLTSNNYCNETPSLIVGMSNNVNSNLVQSLNFWSRKSPGFPGLTVSEGNH\n",
            "SDSEETWEYPGSEQKEDAQEHNHDDLNDEVNEADEDHQESGEHEGSLANIIENRNELEYK\n",
            "QIILY\n",
            ">\n",
            "MEQQKFQLKPLHLLVLMFLLGVCFLLSIINPIFFLFTLM\n",
            ">\n",
            "MDKLKKTYSSLLDSKTSRMIDTCLVFELTWISKKQEGKTNFWLRKRILTLFDLLEMYTQY\n",
            "VLGVEGMKNLFYLHILINMWVLTFSSVVSSS\n",
            "FCSELFLAGDLVLCLEVQMFCNLNVKDPSSHSFFRLTLVLLYGFDWMSKICGLSKDTPNHIS\n",
            "IFFLIVLTLLSESMVDNFYFLIIVWIFGPLLVAVETAVSIPAVIFYTIQTFLSSFALNAK\n",
            "EFNKQSVEQAIFFFFVKIFIVRKMPCRLTFAWCPFCSMSPFIMVSFSSLSCFCATPNCGL\n",
            "LQACLLFLSGKSLEMTIDMFQVEMLVFFESQFLHPDERFALSPSSAAKRAEEEHRMPSGA\n",
            "VCSGKTVFDDRSAYRMKSAAPNSSSLESMLKLKSVSVFRLPLGTSLQGKAKSVLSSTSGN\n",
            "GNSHPPKPTGITKGLCEYWSEPARYGISFDVDVHLISPKGKSCSILPAVNQTKVKEGELY\n"
          ]
        }
      ]
    },
    {
      "cell_type": "markdown",
      "source": [
        "**Do the generated sequences look like the input sequences?**\n",
        "\n",
        "Yes.\n",
        "\n",
        "**Do the generated sequences contain any secondary structure?**\n",
        "\n",
        "Yes, Quick2D analysis (server accessible here: https://toolkit.tuebingen.mpg.de/tools/quick2d) shows predicted\n",
        "secondary structure (alpha-helices, beta-sheets) for the generated sequences.\n",
        "\n",
        "**Do the generated sequences contain any tertiary structure?**\n",
        "\n",
        "Hmmm... not sure. Structure prediction using AlphaFold2\n",
        "(accessible here: https://colab.research.google.com/github/sokrypton/ColabFold/blob/main/AlphaFold2.ipynb) gives very low confidence (<50 pLDDT) structure predictions...\n",
        "These are bad scores, and suggest that tertiary structure is\n",
        "lacking from these generated sequences.\n",
        "\n",
        "**Final:**\n",
        "\n",
        "Still, for a simple Causal Language Model (i.e. it is trained *only*\n",
        "on predicting the next token in a sequence) it does pretty well.\n",
        "\n",
        "**NEXT:**\n",
        "\n",
        "Try using the same data set with a Masked Language Model and\n",
        "compare the results. (e.g. with https://github.com/lucidrains/mlm-pytorch/blob/master/mlm_pytorch/mlm_pytorch.py)"
      ],
      "metadata": {
        "id": "Jk4Xv15OBEwh"
      }
    }
  ]
}